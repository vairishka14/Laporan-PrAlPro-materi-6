{
 "cells": [
  {
   "cell_type": "code",
   "execution_count": 1,
   "id": "bc6c5490-9c49-41ab-8dae-25cbac90ed4d",
   "metadata": {},
   "outputs": [
    {
     "name": "stdout",
     "output_type": "stream",
     "text": [
      "6 x 5 = 5 + 5 + 5 + 5 + 5 + 5 = 30\n",
      "7 x 10 = 10 + 10 + 10 + 10 + 10 + 10 + 10 = 70\n"
     ]
    }
   ],
   "source": [
    "def perkalian(x, y):\n",
    "    if x == 0 or y == 0:\n",
    "        return 0\n",
    "    else:\n",
    "        persamaan = f\"{x} x {y} = \"\n",
    "        total = 0\n",
    "        for i in range(x):\n",
    "            total += y\n",
    "            persamaan += f\"{y}\"\n",
    "            if i < x - 1:\n",
    "                persamaan += \" + \"\n",
    "    persamaan += f\" = {total}\"\n",
    "    return persamaan\n",
    "\n",
    "print(perkalian(6, 5))\n",
    "print(perkalian(7, 10))"
   ]
  },
  {
   "cell_type": "code",
   "execution_count": 5,
   "id": "9227dc09-24a3-4095-a0cd-24be4b500379",
   "metadata": {},
   "outputs": [
    {
     "name": "stdin",
     "output_type": "stream",
     "text": [
      "Masukkan batas bawah:  10\n",
      "Masukkan batas atas:  30\n"
     ]
    },
    {
     "name": "stdout",
     "output_type": "stream",
     "text": [
      "Deret bilangan ganjil: 11, 13, 15, 17, 19, 21, 23, 25, 27, 29\n"
     ]
    }
   ],
   "source": [
    "def ganjil(batasBawah, batasAtas):\n",
    "    deret = []\n",
    "    if batasBawah < batasAtas:\n",
    "        for i in range(batasBawah, batasAtas + 1):\n",
    "            if i % 2 != 0:\n",
    "                deret.append(i)\n",
    "    else:\n",
    "        for i in range(batasBawah, batasAtas - 1, -1):\n",
    "            if i % 2 != 0:\n",
    "                deret.append(i)\n",
    "    \n",
    "    return deret\n",
    "\n",
    "batasBawah = int(input(\"Masukkan batas bawah: \"))\n",
    "batasAtas = int(input(\"Masukkan batas atas: \"))\n",
    "    \n",
    "hasil_ganjil = ganjil(batasBawah, batasAtas)\n",
    "print(\"Deret bilangan ganjil:\", \", \".join(map(str, hasil_ganjil)))"
   ]
  },
  {
   "cell_type": "code",
   "execution_count": 6,
   "id": "7b74e51a-9b74-43d8-a46d-fac185964054",
   "metadata": {},
   "outputs": [
    {
     "name": "stdin",
     "output_type": "stream",
     "text": [
      "Masukkan batas bawah:  97\n",
      "Masukkan batas atas:  82\n"
     ]
    },
    {
     "name": "stdout",
     "output_type": "stream",
     "text": [
      "Deret bilangan ganjil: 97, 95, 93, 91, 89, 87, 85, 83\n"
     ]
    }
   ],
   "source": [
    "def ganjil(batasBawah, batasAtas):\n",
    "    deret = []\n",
    "    if batasBawah < batasAtas:\n",
    "        for i in range(batasBawah, batasAtas + 1):\n",
    "            if i % 2 != 0:\n",
    "                deret.append(i)\n",
    "    else:\n",
    "        for i in range(batasBawah, batasAtas - 1, -1):\n",
    "            if i % 2 != 0:\n",
    "                deret.append(i)\n",
    "    \n",
    "    return deret\n",
    "\n",
    "batasBawah = int(input(\"Masukkan batas bawah: \"))\n",
    "batasAtas = int(input(\"Masukkan batas atas: \"))\n",
    "    \n",
    "hasil_ganjil = ganjil(batasBawah, batasAtas)\n",
    "print(\"Deret bilangan ganjil:\", \", \".join(map(str, hasil_ganjil)))"
   ]
  },
  {
   "cell_type": "code",
   "execution_count": 7,
   "id": "e73fc3db-ae04-4b79-b8f7-ef3fdd7016fd",
   "metadata": {},
   "outputs": [
    {
     "name": "stdin",
     "output_type": "stream",
     "text": [
      "Berapa jumlah mata kuliah?   6\n",
      "Nilai MK 1:  A\n",
      "Nilai MK 2:  B\n",
      "Nilai MK 3:  C\n",
      "Nilai MK 4:  A\n",
      "Nilai MK 5:  D\n",
      "Nilai MK 6:  C\n"
     ]
    },
    {
     "name": "stdout",
     "output_type": "stream",
     "text": [
      "Nilai IPS anda semester ini 2.67\n"
     ]
    }
   ],
   "source": [
    "def hitung_ips(jumlah_mata_kuliah, nilai_mata_kuliah):\n",
    "    total_nilai = 0\n",
    "    total_sks = 0\n",
    "    for nilai in nilai_mata_kuliah:\n",
    "        if nilai == 'A':\n",
    "            bobot = 4\n",
    "        elif nilai == 'B':\n",
    "            bobot = 3\n",
    "        elif nilai == 'C':\n",
    "            bobot = 2\n",
    "        elif nilai == 'D':\n",
    "            bobot = 1\n",
    "        else:\n",
    "            print(f\"Nilai '{nilai}' tidak valid. Mengabaikan mata kuliah ini.\")\n",
    "            continue  \n",
    "\n",
    "        total_nilai += bobot * 3\n",
    "        total_sks += 3\n",
    "\n",
    "    if total_sks == 0:\n",
    "        return 0  \n",
    "    ips = total_nilai / total_sks\n",
    "    return ips\n",
    "\n",
    "jumlah_mata_kuliah = int(input(\"Berapa jumlah mata kuliah?  \"))\n",
    "nilai_mata_kuliah = []\n",
    "\n",
    "for i in range(jumlah_mata_kuliah):\n",
    "    nilai = input(f\"Nilai MK {i + 1}: \").upper()\n",
    "    nilai_mata_kuliah.append(nilai)\n",
    "\n",
    "ips = hitung_ips(jumlah_mata_kuliah, nilai_mata_kuliah)\n",
    "print(f\"Nilai IPS anda semester ini {ips:.2f}\")"
   ]
  }
 ],
 "metadata": {
  "kernelspec": {
   "display_name": "Python 3 (ipykernel)",
   "language": "python",
   "name": "python3"
  },
  "language_info": {
   "codemirror_mode": {
    "name": "ipython",
    "version": 3
   },
   "file_extension": ".py",
   "mimetype": "text/x-python",
   "name": "python",
   "nbconvert_exporter": "python",
   "pygments_lexer": "ipython3",
   "version": "3.12.7"
  }
 },
 "nbformat": 4,
 "nbformat_minor": 5
}
